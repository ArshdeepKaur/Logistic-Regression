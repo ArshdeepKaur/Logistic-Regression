{
 "cells": [
  {
   "cell_type": "code",
   "execution_count": 2,
   "metadata": {
    "collapsed": true
   },
   "outputs": [],
   "source": [
    "import pandas as pd\n",
    "import matplotlib.pyplot as plt\n",
    "import numpy as np\n",
    "import time\n",
    "import scipy.optimize as op\n",
    "import sys"
   ]
  },
  {
   "cell_type": "code",
   "execution_count": 3,
   "metadata": {
    "collapsed": true
   },
   "outputs": [],
   "source": [
    "'''\n",
    "PLOTDATA Plots the data points X and y into a new figure \n",
    "   PLOTDATA(x,y) plots the data points with + for the positive examples\n",
    "   and o for the negative examples. X is assumed to be a Mx2 matrix.\n",
    "'''\n",
    "def plotData(X, y, hold=False):\n",
    "\tpos_vals = np.where(y==1)\n",
    "\tneg_vals = np.where(y==0)\n",
    "\tpass_rows = X[pos_vals, : ][0]\n",
    "\tfail_rows = X[neg_vals, : ][0]\n",
    "\n",
    "\t# Plot the linear fit\n",
    "\tplt.scatter(pass_rows[:,1], pass_rows[:,2], marker='+',  color='k', label='pass', s = 100) \n",
    "\tplt.scatter(fail_rows[:,1], fail_rows[:,2], marker='o',  color='y', label='fail', s = 100) \n",
    "\tplt.legend(loc='lower right')\n",
    "\tplt.xlabel('Category 1 Scores')\n",
    "\tplt.ylabel('Category 2 Scores')\n",
    "\tplt.title('Scatter Plot of Pass/Fail Results based on Category Scores')\n",
    "\tif(hold==False):\n",
    "\t\tplt.show()"
   ]
  },
  {
   "cell_type": "code",
   "execution_count": 4,
   "metadata": {
    "collapsed": true
   },
   "outputs": [],
   "source": [
    "'''\n",
    "SIGMOID computes sigmoid of a number\n",
    "'''\n",
    "def sigmoid(x):\n",
    "  return 1 / (1 + np.exp(-x))\n"
   ]
  },
  {
   "cell_type": "code",
   "execution_count": 5,
   "metadata": {
    "collapsed": true
   },
   "outputs": [],
   "source": [
    "'''\n",
    "ComputeCost computes the cost function\n",
    "'''\n",
    "def computeCost(theta, X, y):\n",
    "    #computeCost Compute cost for logistic regression\n",
    "    #   J = computeCost(X, y, theta) computes the cost of using theta as the\n",
    "    #\tparameter for logistic regression and the gradient of the cost\n",
    "    #\tw.r.t. to the parameters.\n",
    "\n",
    "    # Initialize some useful values\n",
    "    m = len(y); # number of training examples\n",
    "    # You need to return the following variables correctly \n",
    "    J = 0;\n",
    "\n",
    "    # ====================== YOUR CODE HERE ======================\n",
    "    # Instructions: Compute the cost of a particular choice of theta\n",
    "    # =========================================================================\n",
    "    # You should set J to the cost.\n",
    "    y = y.reshape(m,1)\n",
    "    z = np.matmul(X,theta) \t\t# X*theta\n",
    "    h_theta = sigmoid(z)\t\t\t\t# sigmoid\n",
    "    cost_0 = np.log(1-h_theta)\t\t\t# Cost For Fail(=0) Term\n",
    "    cost_1 = np.log(h_theta)\t\t\t# Cost For Pass(=1) Term\n",
    "    J = (1.0/float(m))*((-1*np.matmul(np.transpose(y),cost_1))-np.matmul(np.transpose(1-y),cost_0))\n",
    "    cost = J[0]\n",
    "    return cost"
   ]
  },
  {
   "cell_type": "code",
   "execution_count": 6,
   "metadata": {
    "collapsed": true
   },
   "outputs": [],
   "source": [
    "'''\n",
    "ComputeGrad computes the Gradient\n",
    "'''\n",
    "def computeGrad(theta, X, y):\n",
    "    #computeGrad Computes gradient for logistic regression\n",
    "    \n",
    "    # Initialize some useful values\n",
    "    (m, n) = X.shape # number of training examples\n",
    "    \n",
    "    # You need to return the following variables correctly \n",
    "    grad = 0;\n",
    "\n",
    "    # ====================== YOUR CODE HERE ======================\n",
    "    # Instructions: Compute the gradient of cost for a particular choice of theta\n",
    "    # =========================================================================\n",
    "    # You should set grad to the gradient.\n",
    "    y \t\t\t= y.reshape((m,1))\n",
    "    theta\t\t= theta.reshape((n,1))\n",
    "    z\t\t \t= np.matmul(X,theta) \t\t# X*theta\n",
    "    h_theta\t  \t= sigmoid(z)\t\t\t\t# sigmoid\n",
    "    grad\t\t= (1.0/float(m))*np.matmul(np.transpose(X),np.subtract(h_theta,y))\t\n",
    "    #print X.shape, theta.shape, y.shape, np.subtract(h_theta,y).shape\n",
    "    return grad"
   ]
  },
  {
   "cell_type": "code",
   "execution_count": 7,
   "metadata": {
    "collapsed": true
   },
   "outputs": [],
   "source": [
    "'''\n",
    "#PLOTDECISIONBOUNDARY Plots the data points X and y into a new figure with\n",
    "#the decision boundary defined by theta\n",
    "#   PLOTDECISIONBOUNDARY(theta, X,y) plots the data points with + for the \n",
    "#   positive examples and o for the negative examples. X is assumed to be \n",
    "#   a either \n",
    "#   1) Mx3 matrix, where the first column is an all-ones column for the \n",
    "#      intercept.\n",
    "#   2) MxN, N>3 matrix, where the first column is all-ones\n",
    "'''\n",
    "def plotDecisionBoundary(theta, X, y):\n",
    "\tplotData(X,y,True)\n",
    "\t(m,n) = X.shape\n",
    "\tif(n<=3):\n",
    "\t\t# Only need 2 points to define a line, so choose two endpoints\n",
    "\t\tx_min  = int(np.min(X[:,1])-2)\n",
    "\t\tx_max  = int(np.max(X[:,1])+2)\n",
    "\t\tplot_x = np.array(range(x_min,x_max))\n",
    "\n",
    "\t\t# Calculate the decision boundary line\n",
    "\t\tplot_y = (-1.0/theta[2])*((theta[1]*plot_x) + theta[0])\n",
    "\t\t#print plot_y\n",
    "\t\t\n",
    "\t\t# Plot, and adjust axes for better viewing\n",
    "\t\tplt.plot(plot_x, plot_y)\n",
    "\t\tplt.show()\n",
    "\telse:\n",
    "\t\t#print \"In Else\"\n",
    "\t\t# Here is the grid range\n",
    "\t\tu = np.linspace(-1, 1.5, 50);\n",
    "\t\tv = np.linspace(-1, 1.5, 50);\n",
    "\n",
    "\t\tz = np.zeros((len(u), len(v)));\n",
    "\t\t# Evaluate z = theta*x over the grid\n",
    "\t\tfor i in range(len(u)):\n",
    "\t\t\tfor j in range(len(v)):\n",
    "\t\t\t\tz_mul  = np.matmul(mapFeature(np.array([u[i]]), np.array([v[j]])),theta)\n",
    "\t\t\t\tz[i,j] = z_mul[0]\n",
    "\t\tz = np.transpose(z); # important to transpose z before calling contour\n",
    "\n",
    "\t\t# Plot z = 0\n",
    "\t\t# Notice you need to specify the range [0, 0]\n",
    "\t\tplt.contour(u, v, z)\n",
    "\t\tplt.show()"
   ]
  },
  {
   "cell_type": "code",
   "execution_count": 8,
   "metadata": {
    "collapsed": true
   },
   "outputs": [],
   "source": [
    "'''\n",
    "PREDICT Predict whether the label is 0 or 1 using learned logistic \n",
    "regression parameters theta\n",
    "   p = PREDICT(theta, X) computes the predictions for X using a \n",
    "   threshold at 0.5 (i.e., if sigmoid(theta'*x) >= 0.5, predict 1)\n",
    "'''\t\t\n",
    "def predict(theta, X):\n",
    "\n",
    "\tm = len(X) # Number of training examples\n",
    "\tp = np.zeros((m,1))\n",
    "\t# ====================== YOUR CODE HERE ======================\n",
    "\t# Instructions: Complete the following code to make predictions using\n",
    "\t#               your learned logistic regression parameters. \n",
    "\t#               You should set p to a vector of 0's and 1's\n",
    "\t#\n",
    "\tanswer = sigmoid(np.matmul(X,theta))\n",
    "\t# You need to return the following variables correctly\n",
    "\tp=0\n",
    "\tp = [int(round(x)) for x in answer]\n",
    "\treturn np.array(p)\n",
    "\treturn p"
   ]
  },
  {
   "cell_type": "code",
   "execution_count": 9,
   "metadata": {
    "collapsed": true
   },
   "outputs": [],
   "source": [
    "'''\n",
    "MAPFEATURE Feature mapping function to polynomial features\n",
    "\tMAPFEATURE(X1, X2) maps the two input features\n",
    "\tto quadratic features used in the regularization exercise.\n",
    "\tReturns a new feature array with more features, comprising of \n",
    "\tX1, X2, X1.^2, X2.^2, X1*X2, X1*X2.^2, etc..\n",
    "\tInputs X1, X2 must be the same size\n",
    "'''\n",
    "def mapFeature(X1, X2):\n",
    "\tdegree \t\t= 6\t\n",
    "\t# ====================== YOUR CODE HERE ======================\n",
    "\t# Instructions: Complete the following code to map X Array\n",
    "\t#               to a higher order feature vector \n",
    "\t#               You should return the higher order feature vector as out\n",
    "\t#\n",
    "\tnum_terms \t= (degree+1) * (degree + 2) /2 \t#No. Of Terms => 7*8/2 = 28\n",
    "\tlenX\t\t=  X1.shape\t\n",
    "\t#print X1, X2,lenX, num_terms\n",
    "\tout = np.ones((lenX[0], num_terms))\n",
    "\tcol=0\n",
    "\tfor i in range(degree+1):\n",
    "\t\tfor j in range(i+1):\n",
    "\t\t\tout[:,col] = np.multiply(np.power(X1,(i-j)), np.power(X2,j))\n",
    "\t\t\tcol=col+1\n",
    "\treturn out"
   ]
  },
  {
   "cell_type": "code",
   "execution_count": 10,
   "metadata": {
    "collapsed": true
   },
   "outputs": [],
   "source": [
    "'''\n",
    "computeCostReg Compute cost and gradient for logistic regression with regularization\n",
    "   J = COMPUTECOSTREG(theta, X, y, lambda_reg) computes the cost of using\n",
    "   theta as the parameter for regularized logistic regression and the\n",
    "   gradient of the cost w.r.t. to the parameters. \n",
    "'''\n",
    "def computeCostReg(theta, X, y, lambda_reg):\n",
    "\t# Initialize some useful values\n",
    "\t(m,n) = X.shape # number of training examples\n",
    "\n",
    "\t# You need to return the following variables correctly \n",
    "\tJ = 0;\n",
    "\t\n",
    "\t# ====================== YOUR CODE HERE ======================\n",
    "\t# Instructions: Compute the cost of a particular choice of theta\n",
    "\t# =========================================================================\n",
    "\t# You should set J to the cost.\n",
    "\ty = y.reshape(m,1)\n",
    "\tz\t\t \t= np.matmul(X,theta) \t\t# X*theta\n",
    "\th_theta\t  \t= sigmoid(z)\t\t\t\t# sigmoid\n",
    "\tcost_0\t\t= np.log(1-h_theta)\t\t\t# Cost For Fail(=0) Term\n",
    "\tcost_1\t\t= np.log(h_theta)\t\t\t# Cost For Pass(=1) Term\n",
    "\tJ\t\t\t= (np.add((1.0/float(m))*((-1*np.matmul(np.transpose(y),cost_1))-np.matmul(np.transpose(1-y),cost_0)),\n",
    "\t\t\t\t\t(lambda_reg/(2*float(m)))* np.sum(theta[1:n+1])))\n",
    "\treturn J[0]"
   ]
  },
  {
   "cell_type": "code",
   "execution_count": 11,
   "metadata": {
    "collapsed": true
   },
   "outputs": [],
   "source": [
    "'''\n",
    "ComputeGradReg computes the Regularized Gradient\n",
    "'''\n",
    "def computeGradReg(theta, X, y, lambda_reg):\n",
    "    #computeGrad Computes gradient for logistic regression\n",
    "\t# Initialize some useful values\n",
    "\t(m, n) = X.shape # number of training examples\n",
    "\t\n",
    "\t# You need to return the following variables correctly \n",
    "\tJ = 0;\n",
    "\n",
    "\t# ====================== YOUR CODE HERE ======================\n",
    "\t# Instructions: Compute the cost of a particular choice of theta\n",
    "\t# =========================================================================\n",
    "\t# You should set J to the cost.\n",
    "\ty \t\t\t\t= y.reshape((m,1))\n",
    "\ttheta\t\t\t= theta.reshape((n,1))\n",
    "\tz\t\t \t\t= np.matmul(X,theta) \t\t# X*theta\n",
    "\th_theta\t  \t\t= sigmoid(z)\t\t\t\t# sigmoid\n",
    "\ttheta_new \t\t= np.copy(theta)\n",
    "\ttheta_new[0]\t= 0\n",
    "\tgrad\t\t\t= np.add((1.0/float(m))*np.matmul(np.transpose(X),np.subtract(h_theta,y)),(lambda_reg/float(m))*theta_new)\n",
    "\t#print X.shape, theta.shape, y.shape, np.subtract(h_theta,y).shape\n",
    "\treturn grad\n"
   ]
  },
  {
   "cell_type": "code",
   "execution_count": 12,
   "metadata": {},
   "outputs": [
    {
     "name": "stdout",
     "output_type": "stream",
     "text": [
      "   Exam_1_Score  Exam_2_Score  Label\n",
      "0     34.623660     78.024693      0\n",
      "1     30.286711     43.894998      0\n",
      "2     35.847409     72.902198      0\n",
      "3     60.182599     86.308552      1\n",
      "4     79.032736     75.344376      1\n"
     ]
    },
    {
     "data": {
      "image/png": "[encoded data removed]",
      "text/plain": [
       "<matplotlib.figure.Figure at 0x1144e9630>"
      ]
     },
     "metadata": {},
     "output_type": "display_data"
    },
    {
     "name": "stdout",
     "output_type": "stream",
     "text": [
      "[[ 0.5  0.5]\n",
      " [ 0.5  0.5]]\n",
      "Cost is: [ 0.69314718]\n",
      "Gradient Matrix: [[ -0.1       ]\n",
      " [-12.00921659]\n",
      " [-11.26284221]]\n",
      "Optimal Theta:  [-25.16131869   0.20623159   0.20147149]\n",
      "Optimal Cost:  0.203497701589\n"
     ]
    },
    {
     "data": {
      "image/png": "[encoded data removed]",
      "text/plain": [
       "<matplotlib.figure.Figure at 0x114526780>"
      ]
     },
     "metadata": {},
     "output_type": "display_data"
    },
    {
     "name": "stdout",
     "output_type": "stream",
     "text": [
      "For a student with scores 45 and 85, we predict an admission probability of 0.77629062427\n",
      "Train Accuracy:  89\n"
     ]
    },
    {
     "data": {
      "image/png": "[encoded data removed]",
      "text/plain": [
       "<matplotlib.figure.Figure at 0x1178fecf8>"
      ]
     },
     "metadata": {},
     "output_type": "display_data"
    },
    {
     "ename": "TypeError",
     "evalue": "'float' object cannot be interpreted as an integer",
     "output_type": "error",
     "traceback": [
      "\u001b[0;31m---------------------------------------------------------------------------\u001b[0m",
      "\u001b[0;31mTypeError\u001b[0m                                 Traceback (most recent call last)",
      "\u001b[0;32m<ipython-input-12-75ae61e563e8>\u001b[0m in \u001b[0;36m<module>\u001b[0;34m()\u001b[0m\n\u001b[1;32m     94\u001b[0m \u001b[0mX1\u001b[0m      \u001b[0;34m=\u001b[0m \u001b[0mnp\u001b[0m\u001b[0;34m.\u001b[0m\u001b[0marray\u001b[0m\u001b[0;34m(\u001b[0m\u001b[0mdata\u001b[0m\u001b[0;34m.\u001b[0m\u001b[0miloc\u001b[0m\u001b[0;34m[\u001b[0m\u001b[0;34m:\u001b[0m\u001b[0;34m,\u001b[0m\u001b[0;36m0\u001b[0m\u001b[0;34m]\u001b[0m\u001b[0;34m)\u001b[0m\u001b[0;34m\u001b[0m\u001b[0m\n\u001b[1;32m     95\u001b[0m \u001b[0mX2\u001b[0m      \u001b[0;34m=\u001b[0m \u001b[0mnp\u001b[0m\u001b[0;34m.\u001b[0m\u001b[0marray\u001b[0m\u001b[0;34m(\u001b[0m\u001b[0mdata\u001b[0m\u001b[0;34m.\u001b[0m\u001b[0miloc\u001b[0m\u001b[0;34m[\u001b[0m\u001b[0;34m:\u001b[0m\u001b[0;34m,\u001b[0m\u001b[0;36m1\u001b[0m\u001b[0;34m]\u001b[0m\u001b[0;34m)\u001b[0m\u001b[0;34m\u001b[0m\u001b[0m\n\u001b[0;32m---> 96\u001b[0;31m \u001b[0mX\u001b[0m \u001b[0;34m=\u001b[0m \u001b[0mmapFeature\u001b[0m\u001b[0;34m(\u001b[0m\u001b[0mX1\u001b[0m\u001b[0;34m,\u001b[0m \u001b[0mX2\u001b[0m\u001b[0;34m)\u001b[0m\u001b[0;34m\u001b[0m\u001b[0m\n\u001b[0m\u001b[1;32m     97\u001b[0m \u001b[0;31m#sys.exit()\u001b[0m\u001b[0;34m\u001b[0m\u001b[0;34m\u001b[0m\u001b[0m\n\u001b[1;32m     98\u001b[0m \u001b[0;34m\u001b[0m\u001b[0m\n",
      "\u001b[0;32m<ipython-input-9-72c72fa36589>\u001b[0m in \u001b[0;36mmapFeature\u001b[0;34m(X1, X2)\u001b[0m\n\u001b[1;32m     17\u001b[0m         \u001b[0mlenX\u001b[0m            \u001b[0;34m=\u001b[0m  \u001b[0mX1\u001b[0m\u001b[0;34m.\u001b[0m\u001b[0mshape\u001b[0m\u001b[0;34m\u001b[0m\u001b[0m\n\u001b[1;32m     18\u001b[0m         \u001b[0;31m#print X1, X2,lenX, num_terms\u001b[0m\u001b[0;34m\u001b[0m\u001b[0;34m\u001b[0m\u001b[0m\n\u001b[0;32m---> 19\u001b[0;31m         \u001b[0mout\u001b[0m \u001b[0;34m=\u001b[0m \u001b[0mnp\u001b[0m\u001b[0;34m.\u001b[0m\u001b[0mones\u001b[0m\u001b[0;34m(\u001b[0m\u001b[0;34m(\u001b[0m\u001b[0mlenX\u001b[0m\u001b[0;34m[\u001b[0m\u001b[0;36m0\u001b[0m\u001b[0;34m]\u001b[0m\u001b[0;34m,\u001b[0m \u001b[0mnum_terms\u001b[0m\u001b[0;34m)\u001b[0m\u001b[0;34m)\u001b[0m\u001b[0;34m\u001b[0m\u001b[0m\n\u001b[0m\u001b[1;32m     20\u001b[0m         \u001b[0mcol\u001b[0m\u001b[0;34m=\u001b[0m\u001b[0;36m0\u001b[0m\u001b[0;34m\u001b[0m\u001b[0m\n\u001b[1;32m     21\u001b[0m         \u001b[0;32mfor\u001b[0m \u001b[0mi\u001b[0m \u001b[0;32min\u001b[0m \u001b[0mrange\u001b[0m\u001b[0;34m(\u001b[0m\u001b[0mdegree\u001b[0m\u001b[0;34m+\u001b[0m\u001b[0;36m1\u001b[0m\u001b[0;34m)\u001b[0m\u001b[0;34m:\u001b[0m\u001b[0;34m\u001b[0m\u001b[0m\n",
      "\u001b[0;32m/Users/arshdeep/anaconda/lib/python3.6/site-packages/numpy/core/numeric.py\u001b[0m in \u001b[0;36mones\u001b[0;34m(shape, dtype, order)\u001b[0m\n\u001b[1;32m    190\u001b[0m \u001b[0;34m\u001b[0m\u001b[0m\n\u001b[1;32m    191\u001b[0m     \"\"\"\n\u001b[0;32m--> 192\u001b[0;31m     \u001b[0ma\u001b[0m \u001b[0;34m=\u001b[0m \u001b[0mempty\u001b[0m\u001b[0;34m(\u001b[0m\u001b[0mshape\u001b[0m\u001b[0;34m,\u001b[0m \u001b[0mdtype\u001b[0m\u001b[0;34m,\u001b[0m \u001b[0morder\u001b[0m\u001b[0;34m)\u001b[0m\u001b[0;34m\u001b[0m\u001b[0m\n\u001b[0m\u001b[1;32m    193\u001b[0m     \u001b[0mmultiarray\u001b[0m\u001b[0;34m.\u001b[0m\u001b[0mcopyto\u001b[0m\u001b[0;34m(\u001b[0m\u001b[0ma\u001b[0m\u001b[0;34m,\u001b[0m \u001b[0;36m1\u001b[0m\u001b[0;34m,\u001b[0m \u001b[0mcasting\u001b[0m\u001b[0;34m=\u001b[0m\u001b[0;34m'unsafe'\u001b[0m\u001b[0;34m)\u001b[0m\u001b[0;34m\u001b[0m\u001b[0m\n\u001b[1;32m    194\u001b[0m     \u001b[0;32mreturn\u001b[0m \u001b[0ma\u001b[0m\u001b[0;34m\u001b[0m\u001b[0m\n",
      "\u001b[0;31mTypeError\u001b[0m: 'float' object cannot be interpreted as an integer"
     ]
    }
   ],
   "source": [
    "## Load Data\n",
    "#  The first two columns contains the exam scores and the third column\n",
    "#  contains the label.\n",
    "data \t= pd.read_csv('ex2data1.txt', header =  None, names = ['Exam_1_Score', 'Exam_2_Score', 'Label'])\n",
    "print (data.head())\n",
    "#Get The Labels\n",
    "y_data \t= data.iloc[:,2]\n",
    "\n",
    "#Get the Data\n",
    "X_data \t= data.iloc[:,0:2]\n",
    "(m, n) \t= X_data.shape\n",
    "\n",
    "y \t\t= np.array(y_data)\n",
    "#  Setup the data matrix appropriately, and add ones for the intercept term\n",
    "X \t\t= np.c_[np.ones(m), np.array(X_data)] # Add a column of ones to x\n",
    "\n",
    "#Call The Plotting Function\n",
    "plotData(X, y)\n",
    "#sys.exit()\n",
    "#plt.savefig('OrigData1.png')\n",
    "\t\n",
    "#Call The Sigmoid Function\n",
    "print (sigmoid(np.zeros((2,2))))\n",
    "#sys.exit()\n",
    "\n",
    "# Initialize fitting parameters\n",
    "initial_theta = np.zeros((n + 1, 1))\n",
    "\n",
    "# Compute and display initial cost and gradient\n",
    "cost= computeCost(initial_theta, X, y)\n",
    "grad= computeGrad(initial_theta, X, y)\n",
    "print ('Cost is:', cost )\n",
    "print ('Gradient Matrix:', grad)\n",
    "#sys.exit()\n",
    "\n",
    "#Optimizing Using Built in Scipy Functions\n",
    "Result = op.minimize(fun = computeCost, x0 = initial_theta, args = (X, y),method = 'TNC',jac = computeGrad) #You can also use bfgs for optimization method\n",
    "optimal_theta = Result.x\n",
    "print (\"Optimal Theta: \", Result.x)\n",
    "print (\"Optimal Cost: \", Result.fun)\n",
    "\n",
    "#Plotting the Decision Boundary\n",
    "plotDecisionBoundary(optimal_theta, X, y)\n",
    "#plt.savefig('OrigData1_withDecisionBoundary.png')\n",
    "#sys.exit()\n",
    "\n",
    "## ============== Part 4: Predict and Accuracies ==============\n",
    "#  After learning the parameters, you'll like to use it to predict the outcomes\n",
    "#  on unseen data. In this part, you will use the logistic regression model\n",
    "#  to predict the probability that a student with score 45 on exam 1 and \n",
    "#  score 85 on exam 2 will be admitted.\n",
    "#\n",
    "#  Furthermore, you will compute the training and test set accuracies of \n",
    "#  our model.\n",
    "#\n",
    "#  Your task is to complete the code in function predict()\n",
    "\n",
    "#  Predict probability for a student with score 45 on exam 1 \n",
    "#  and score 85 on exam 2 \n",
    "\n",
    "prob = sigmoid(np.matmul(np.array([1, 45, 85]), optimal_theta))\n",
    "print ('For a student with scores 45 and 85, we predict an admission probability of', prob)\n",
    "\n",
    "# Compute accuracy on our training set\n",
    "p = predict(optimal_theta, X)\n",
    "\n",
    "print ('Train Accuracy: ', np.sum(p == y)) #Should be 89%\n",
    "#sys.exit()\n",
    "\n",
    "## ================= Regularization ===================== \n",
    "## Load Data\n",
    "#  The first two columns contains the X values and the third column\n",
    "#  contains the label (y).\n",
    "\n",
    "data \t= pd.read_csv('ex2data2.txt', header =  None, names = ['MicroChip_Test1', 'MicroChip_Test2', 'Label'])\n",
    "\n",
    "#Get The Labels\n",
    "y_data \t= data.iloc[:,2]\n",
    "\n",
    "#Get the Data\n",
    "X_data \t= data.iloc[:,0:2]\n",
    "(m, n) \t= X_data.shape\n",
    "y \t\t= np.array(y_data)\n",
    "#  Setup the data matrix appropriately, and add ones for the intercept term\n",
    "X \t\t= np.c_[np.ones(m), np.array(X_data)] # Add a column of ones to x\n",
    "\n",
    "plotData(X, y)\n",
    "#plt.savefig('OrigData2.png')\n",
    "#sys.exit()\n",
    "\n",
    "# Add Polynomial Features\n",
    "# Note that mapFeature also adds a column of ones for us, so the intercept\n",
    "# term is handled\n",
    "X1 \t= np.array(data.iloc[:,0])\n",
    "X2 \t= np.array(data.iloc[:,1])\n",
    "X = mapFeature(X1, X2)\n",
    "#sys.exit()\n",
    "\n",
    "# Initialize fitting parameters\n",
    "(m,n) = X.shape\n",
    "initial_theta = np.zeros((n, 1))\n",
    "\n",
    "# Set regularization parameter lambda to 1\n",
    "reg_lambda = 1\n",
    "\n",
    "# Compute and display initial cost and gradient\n",
    "cost= computeCostReg(initial_theta, X, y, reg_lambda)\n",
    "grad= computeGradReg(initial_theta, X, y, reg_lambda)\n",
    "print ('Cost is:', cost )\n",
    "print ('Gradient Matrix:', grad.shape)\n",
    "\n",
    "#Optimizing Using Built in Scipy Functions\n",
    "Result = op.minimize(fun = computeCostReg, x0 = initial_theta, args = (X, y, reg_lambda),method = 'TNC',jac = computeGradReg) #You can also use bfgs for optimization method\n",
    "optimal_theta = Result.x\n",
    "print (\"Optimal Theta: \", Result.x)\n",
    "print (\"Optimal Cost: \", Result.fun)\n",
    "\n",
    "#Plotting the Decision Boundary\n",
    "plotDecisionBoundary(optimal_theta, X, y)\n",
    "#plt.savefig('OrigData_withDB_Lpoint0001.png')"
   ]
  },
  {
   "cell_type": "code",
   "execution_count": null,
   "metadata": {
    "collapsed": true
   },
   "outputs": [],
   "source": []
  },
  {
   "cell_type": "code",
   "execution_count": null,
   "metadata": {
    "collapsed": true
   },
   "outputs": [],
   "source": []
  }
 ],
 "metadata": {
  "kernelspec": {
   "display_name": "Python 3",
   "language": "python",
   "name": "python3"
  },
  "language_info": {
   "codemirror_mode": {
    "name": "ipython",
    "version": 3
   },
   "file_extension": ".py",
   "mimetype": "text/x-python",
   "name": "python",
   "nbconvert_exporter": "python",
   "pygments_lexer": "ipython3",
   "version": "3.6.1"
  }
 },
 "nbformat": 4,
 "nbformat_minor": 2
}
